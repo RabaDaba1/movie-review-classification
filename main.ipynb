{
 "cells": [
  {
   "cell_type": "markdown",
   "metadata": {},
   "source": [
    "### Import libraries"
   ]
  },
  {
   "cell_type": "code",
   "execution_count": 2,
   "metadata": {},
   "outputs": [],
   "source": [
    "import pandas as pd\n",
    "import numpy as np\n",
    "\n",
    "import tensorflow as tf\n",
    "from tensorflow.keras.preprocessing.text import Tokenizer\n",
    "from tensorflow.keras.preprocessing.sequence import pad_sequences"
   ]
  },
  {
   "cell_type": "markdown",
   "metadata": {},
   "source": [
    "### Load data"
   ]
  },
  {
   "cell_type": "code",
   "execution_count": 3,
   "metadata": {},
   "outputs": [
    {
     "data": {
      "text/html": [
       "<div>\n",
       "<style scoped>\n",
       "    .dataframe tbody tr th:only-of-type {\n",
       "        vertical-align: middle;\n",
       "    }\n",
       "\n",
       "    .dataframe tbody tr th {\n",
       "        vertical-align: top;\n",
       "    }\n",
       "\n",
       "    .dataframe thead th {\n",
       "        text-align: right;\n",
       "    }\n",
       "</style>\n",
       "<table border=\"1\" class=\"dataframe\">\n",
       "  <thead>\n",
       "    <tr style=\"text-align: right;\">\n",
       "      <th></th>\n",
       "      <th>review</th>\n",
       "      <th>sentiment</th>\n",
       "    </tr>\n",
       "  </thead>\n",
       "  <tbody>\n",
       "    <tr>\n",
       "      <th>0</th>\n",
       "      <td>One of the other reviewers has mentioned that ...</td>\n",
       "      <td>positive</td>\n",
       "    </tr>\n",
       "    <tr>\n",
       "      <th>1</th>\n",
       "      <td>A wonderful little production. &lt;br /&gt;&lt;br /&gt;The...</td>\n",
       "      <td>positive</td>\n",
       "    </tr>\n",
       "    <tr>\n",
       "      <th>2</th>\n",
       "      <td>I thought this was a wonderful way to spend ti...</td>\n",
       "      <td>positive</td>\n",
       "    </tr>\n",
       "    <tr>\n",
       "      <th>3</th>\n",
       "      <td>Basically there's a family where a little boy ...</td>\n",
       "      <td>negative</td>\n",
       "    </tr>\n",
       "    <tr>\n",
       "      <th>4</th>\n",
       "      <td>Petter Mattei's \"Love in the Time of Money\" is...</td>\n",
       "      <td>positive</td>\n",
       "    </tr>\n",
       "  </tbody>\n",
       "</table>\n",
       "</div>"
      ],
      "text/plain": [
       "                                              review sentiment\n",
       "0  One of the other reviewers has mentioned that ...  positive\n",
       "1  A wonderful little production. <br /><br />The...  positive\n",
       "2  I thought this was a wonderful way to spend ti...  positive\n",
       "3  Basically there's a family where a little boy ...  negative\n",
       "4  Petter Mattei's \"Love in the Time of Money\" is...  positive"
      ]
     },
     "execution_count": 3,
     "metadata": {},
     "output_type": "execute_result"
    }
   ],
   "source": [
    "dataset = pd.read_csv('IMDB Dataset.csv')\n",
    "dataset.head()"
   ]
  },
  {
   "cell_type": "markdown",
   "metadata": {},
   "source": [
    "### Preprocess data"
   ]
  },
  {
   "cell_type": "code",
   "execution_count": 4,
   "metadata": {},
   "outputs": [],
   "source": [
    "dataset['sentiment'] = dataset['sentiment'].map({'positive': 1, 'negative': 0})"
   ]
  },
  {
   "cell_type": "code",
   "execution_count": 5,
   "metadata": {},
   "outputs": [],
   "source": [
    "reviews = dataset['review'].values\n",
    "labels = dataset['sentiment'].values"
   ]
  },
  {
   "cell_type": "markdown",
   "metadata": {},
   "source": [
    "### Split data"
   ]
  },
  {
   "cell_type": "code",
   "execution_count": 6,
   "metadata": {},
   "outputs": [],
   "source": [
    "X_train_texts = reviews[:40000]\n",
    "y_train = labels[:40000]\n",
    "X_test_texts = reviews[40000:]\n",
    "y_test = labels[40000:]"
   ]
  },
  {
   "cell_type": "markdown",
   "metadata": {},
   "source": [
    "### Tokenize"
   ]
  },
  {
   "cell_type": "code",
   "execution_count": 7,
   "metadata": {},
   "outputs": [],
   "source": [
    "tokenizer = Tokenizer(oov_token='<OOV>')\n",
    "tokenizer.fit_on_texts(X_train_texts)"
   ]
  },
  {
   "cell_type": "code",
   "execution_count": 8,
   "metadata": {},
   "outputs": [],
   "source": [
    "word_index = tokenizer.word_index\n",
    "vocab_size = len(word_index) + 1 "
   ]
  },
  {
   "cell_type": "code",
   "execution_count": 9,
   "metadata": {},
   "outputs": [],
   "source": [
    "X_train_sequences = tokenizer.texts_to_sequences(X_train_texts)\n",
    "X_train_padded = pad_sequences(X_train_sequences, padding='post', maxlen=2500)\n",
    "\n",
    "X_test_sequences = tokenizer.texts_to_sequences(X_test_texts)\n",
    "X_test_padded = pad_sequences(X_test_sequences, padding='post', maxlen=2500)"
   ]
  },
  {
   "cell_type": "markdown",
   "metadata": {},
   "source": [
    "### Model"
   ]
  },
  {
   "cell_type": "code",
   "execution_count": 10,
   "metadata": {},
   "outputs": [],
   "source": [
    "model = tf.keras.Sequential([\n",
    "    tf.keras.layers.Embedding(input_dim=vocab_size, output_dim=10, input_length=2500),\n",
    "    tf.keras.layers.GlobalAveragePooling1D(),\n",
    "    tf.keras.layers.Dense(24, activation='relu'),\n",
    "    tf.keras.layers.Dense(1, activation='sigmoid')\n",
    "])\n",
    "\n",
    "model.compile(loss='binary_crossentropy', optimizer='adam', metrics=['accuracy'])"
   ]
  },
  {
   "cell_type": "code",
   "execution_count": 11,
   "metadata": {},
   "outputs": [
    {
     "name": "stdout",
     "output_type": "stream",
     "text": [
      "Epoch 1/20\n",
      "1250/1250 [==============================] - 30s 23ms/step - loss: 0.6520 - accuracy: 0.6418 - val_loss: 0.5338 - val_accuracy: 0.7375\n",
      "Epoch 2/20\n",
      "1250/1250 [==============================] - 27s 21ms/step - loss: 0.3966 - accuracy: 0.8514 - val_loss: 0.3778 - val_accuracy: 0.8265\n",
      "Epoch 3/20\n",
      "1250/1250 [==============================] - 23s 18ms/step - loss: 0.2832 - accuracy: 0.8947 - val_loss: 0.2869 - val_accuracy: 0.8925\n",
      "Epoch 4/20\n",
      "1250/1250 [==============================] - 22s 18ms/step - loss: 0.2360 - accuracy: 0.9121 - val_loss: 0.2673 - val_accuracy: 0.8987\n",
      "Epoch 5/20\n",
      "1250/1250 [==============================] - 25s 20ms/step - loss: 0.2067 - accuracy: 0.9236 - val_loss: 0.2570 - val_accuracy: 0.9037\n",
      "Epoch 6/20\n",
      "1250/1250 [==============================] - 32s 26ms/step - loss: 0.1830 - accuracy: 0.9337 - val_loss: 0.2680 - val_accuracy: 0.8959\n",
      "Epoch 7/20\n",
      "1250/1250 [==============================] - 26s 21ms/step - loss: 0.1638 - accuracy: 0.9401 - val_loss: 0.2666 - val_accuracy: 0.8976\n",
      "Epoch 8/20\n",
      "1250/1250 [==============================] - 25s 20ms/step - loss: 0.1461 - accuracy: 0.9485 - val_loss: 0.2546 - val_accuracy: 0.9044\n",
      "Epoch 9/20\n",
      "1250/1250 [==============================] - 25s 20ms/step - loss: 0.1328 - accuracy: 0.9531 - val_loss: 0.2477 - val_accuracy: 0.9086\n",
      "Epoch 10/20\n",
      "1250/1250 [==============================] - 26s 21ms/step - loss: 0.1177 - accuracy: 0.9588 - val_loss: 0.2530 - val_accuracy: 0.9076\n",
      "Epoch 11/20\n",
      "1250/1250 [==============================] - 27s 21ms/step - loss: 0.1061 - accuracy: 0.9642 - val_loss: 0.2577 - val_accuracy: 0.9057\n",
      "Epoch 12/20\n",
      "1250/1250 [==============================] - 13s 11ms/step - loss: 0.0949 - accuracy: 0.9692 - val_loss: 0.2621 - val_accuracy: 0.9069\n",
      "Epoch 13/20\n",
      "1250/1250 [==============================] - 13s 10ms/step - loss: 0.0848 - accuracy: 0.9718 - val_loss: 0.2693 - val_accuracy: 0.9087\n",
      "Epoch 14/20\n",
      "1250/1250 [==============================] - 13s 11ms/step - loss: 0.0770 - accuracy: 0.9752 - val_loss: 0.2834 - val_accuracy: 0.9041\n",
      "Epoch 15/20\n",
      "1250/1250 [==============================] - 12s 10ms/step - loss: 0.0680 - accuracy: 0.9777 - val_loss: 0.2871 - val_accuracy: 0.9055\n",
      "Epoch 16/20\n",
      "1250/1250 [==============================] - 13s 10ms/step - loss: 0.0606 - accuracy: 0.9807 - val_loss: 0.3097 - val_accuracy: 0.9010\n",
      "Epoch 17/20\n",
      "1250/1250 [==============================] - 13s 10ms/step - loss: 0.0532 - accuracy: 0.9840 - val_loss: 0.3170 - val_accuracy: 0.9019\n",
      "Epoch 18/20\n",
      "1250/1250 [==============================] - 15s 12ms/step - loss: 0.0473 - accuracy: 0.9858 - val_loss: 0.3281 - val_accuracy: 0.9030\n",
      "Epoch 19/20\n",
      "1250/1250 [==============================] - 13s 10ms/step - loss: 0.0426 - accuracy: 0.9880 - val_loss: 0.3348 - val_accuracy: 0.9023\n",
      "Epoch 20/20\n",
      "1250/1250 [==============================] - 13s 10ms/step - loss: 0.0379 - accuracy: 0.9887 - val_loss: 0.3802 - val_accuracy: 0.8911\n"
     ]
    },
    {
     "data": {
      "text/plain": [
       "<keras.src.callbacks.History at 0x24005fb3410>"
      ]
     },
     "execution_count": 11,
     "metadata": {},
     "output_type": "execute_result"
    }
   ],
   "source": [
    "model.fit(X_train_padded, y_train, epochs=20, validation_data=(X_test_padded, y_test), verbose=1)"
   ]
  },
  {
   "cell_type": "code",
   "execution_count": 15,
   "metadata": {},
   "outputs": [],
   "source": [
    "model = tf.keras.models.load_model('model.h5')"
   ]
  },
  {
   "cell_type": "markdown",
   "metadata": {},
   "source": [
    "### Prediction"
   ]
  },
  {
   "cell_type": "code",
   "execution_count": 47,
   "metadata": {},
   "outputs": [
    {
     "name": "stdout",
     "output_type": "stream",
     "text": [
      "1/1 [==============================] - 0s 15ms/step\n",
      "[0.07068006 0.90992635 0.7950106  0.00118283 0.5537654 ]\n"
     ]
    }
   ],
   "source": [
    "review = [\n",
    "    \"Scene with the CGI Leia was horrible. I wouldn't recommend this movie it to others.\",\n",
    "    \"The movie was great. I enjoyed every secon of it although actors play wasn't perfect but plot made up for it. I would recommend it to others.\",\n",
    "    \"I loved this movie. It was so funny and entertaining.\",\n",
    "    \"This movie was terrible. The plot was boring and the acting was awful.\",\n",
    "    \"Funny movie but not an amazing one. Best to watch with your friends.\",\n",
    "]\n",
    "\n",
    "review_sequence = tokenizer.texts_to_sequences(review)\n",
    "review_padded = pad_sequences(review_sequence, maxlen=2500, padding='post')\n",
    "\n",
    "prediction = model.predict(review_padded)\n",
    "print(prediction.flatten())"
   ]
  },
  {
   "cell_type": "code",
   "execution_count": null,
   "metadata": {},
   "outputs": [],
   "source": []
  }
 ],
 "metadata": {
  "kernelspec": {
   "display_name": "Python 3",
   "language": "python",
   "name": "python3"
  },
  "language_info": {
   "codemirror_mode": {
    "name": "ipython",
    "version": 3
   },
   "file_extension": ".py",
   "mimetype": "text/x-python",
   "name": "python",
   "nbconvert_exporter": "python",
   "pygments_lexer": "ipython3",
   "version": "3.11.3"
  },
  "orig_nbformat": 4
 },
 "nbformat": 4,
 "nbformat_minor": 2
}
