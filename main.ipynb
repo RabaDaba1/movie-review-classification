{
 "cells": [
  {
   "cell_type": "markdown",
   "metadata": {},
   "source": [
    "### Import libraries"
   ]
  },
  {
   "cell_type": "code",
   "execution_count": 1,
   "metadata": {},
   "outputs": [],
   "source": [
    "import pandas as pd\n",
    "import numpy as np\n",
    "\n",
    "import tensorflow as tf\n",
    "from tensorflow.keras.preprocessing.text import Tokenizer\n",
    "from tensorflow.keras.preprocessing.sequence import pad_sequences"
   ]
  },
  {
   "cell_type": "markdown",
   "metadata": {},
   "source": [
    "### Load data"
   ]
  },
  {
   "cell_type": "code",
   "execution_count": 2,
   "metadata": {},
   "outputs": [
    {
     "data": {
      "text/html": [
       "<div>\n",
       "<style scoped>\n",
       "    .dataframe tbody tr th:only-of-type {\n",
       "        vertical-align: middle;\n",
       "    }\n",
       "\n",
       "    .dataframe tbody tr th {\n",
       "        vertical-align: top;\n",
       "    }\n",
       "\n",
       "    .dataframe thead th {\n",
       "        text-align: right;\n",
       "    }\n",
       "</style>\n",
       "<table border=\"1\" class=\"dataframe\">\n",
       "  <thead>\n",
       "    <tr style=\"text-align: right;\">\n",
       "      <th></th>\n",
       "      <th>review</th>\n",
       "      <th>sentiment</th>\n",
       "    </tr>\n",
       "  </thead>\n",
       "  <tbody>\n",
       "    <tr>\n",
       "      <th>0</th>\n",
       "      <td>One of the other reviewers has mentioned that ...</td>\n",
       "      <td>positive</td>\n",
       "    </tr>\n",
       "    <tr>\n",
       "      <th>1</th>\n",
       "      <td>A wonderful little production. &lt;br /&gt;&lt;br /&gt;The...</td>\n",
       "      <td>positive</td>\n",
       "    </tr>\n",
       "    <tr>\n",
       "      <th>2</th>\n",
       "      <td>I thought this was a wonderful way to spend ti...</td>\n",
       "      <td>positive</td>\n",
       "    </tr>\n",
       "    <tr>\n",
       "      <th>3</th>\n",
       "      <td>Basically there's a family where a little boy ...</td>\n",
       "      <td>negative</td>\n",
       "    </tr>\n",
       "    <tr>\n",
       "      <th>4</th>\n",
       "      <td>Petter Mattei's \"Love in the Time of Money\" is...</td>\n",
       "      <td>positive</td>\n",
       "    </tr>\n",
       "  </tbody>\n",
       "</table>\n",
       "</div>"
      ],
      "text/plain": [
       "                                              review sentiment\n",
       "0  One of the other reviewers has mentioned that ...  positive\n",
       "1  A wonderful little production. <br /><br />The...  positive\n",
       "2  I thought this was a wonderful way to spend ti...  positive\n",
       "3  Basically there's a family where a little boy ...  negative\n",
       "4  Petter Mattei's \"Love in the Time of Money\" is...  positive"
      ]
     },
     "execution_count": 2,
     "metadata": {},
     "output_type": "execute_result"
    }
   ],
   "source": [
    "dataset = pd.read_csv('IMDB Dataset.csv')\n",
    "dataset.head()"
   ]
  },
  {
   "cell_type": "markdown",
   "metadata": {},
   "source": [
    "### Preprocess data"
   ]
  },
  {
   "cell_type": "code",
   "execution_count": 3,
   "metadata": {},
   "outputs": [],
   "source": [
    "dataset['sentiment'] = dataset['sentiment'].map({'positive': 1, 'negative': 0})"
   ]
  },
  {
   "cell_type": "code",
   "execution_count": 4,
   "metadata": {},
   "outputs": [],
   "source": [
    "reviews = dataset['review'].values\n",
    "labels = dataset['sentiment'].values"
   ]
  },
  {
   "cell_type": "markdown",
   "metadata": {},
   "source": [
    "### Split data"
   ]
  },
  {
   "cell_type": "code",
   "execution_count": 5,
   "metadata": {},
   "outputs": [],
   "source": [
    "X_train_texts = reviews[:40000]\n",
    "y_train = labels[:40000]\n",
    "X_test_texts = reviews[40000:]\n",
    "y_test = labels[40000:]"
   ]
  },
  {
   "cell_type": "markdown",
   "metadata": {},
   "source": [
    "### Tokenize"
   ]
  },
  {
   "cell_type": "code",
   "execution_count": 6,
   "metadata": {},
   "outputs": [],
   "source": [
    "tokenizer = Tokenizer(oov_token='<OOV>')\n",
    "tokenizer.fit_on_texts(X_train_texts)"
   ]
  },
  {
   "cell_type": "code",
   "execution_count": 7,
   "metadata": {},
   "outputs": [],
   "source": [
    "word_index = tokenizer.word_index\n",
    "vocab_size = len(word_index) + 1 "
   ]
  },
  {
   "cell_type": "code",
   "execution_count": 8,
   "metadata": {},
   "outputs": [],
   "source": [
    "X_train_sequences = tokenizer.texts_to_sequences(X_train_texts)\n",
    "X_train_padded = pad_sequences(X_train_sequences, padding='post', maxlen=2500)\n",
    "\n",
    "X_test_sequences = tokenizer.texts_to_sequences(X_test_texts)\n",
    "X_test_padded = pad_sequences(X_test_sequences, padding='post', maxlen=2500)"
   ]
  },
  {
   "cell_type": "markdown",
   "metadata": {},
   "source": [
    "### Model"
   ]
  },
  {
   "cell_type": "code",
   "execution_count": 20,
   "metadata": {},
   "outputs": [],
   "source": [
    "model = tf.keras.Sequential([\n",
    "    tf.keras.layers.Embedding(input_dim=vocab_size, output_dim=10, input_length=2500),\n",
    "    tf.keras.layers.GlobalAveragePooling1D(),\n",
    "    tf.keras.layers.Dense(24, activation='relu'),\n",
    "    tf.keras.layers.Dense(1, activation='sigmoid')\n",
    "])\n",
    "\n",
    "model.compile(loss='binary_crossentropy', optimizer='adam', metrics=['accuracy'])"
   ]
  },
  {
   "cell_type": "code",
   "execution_count": 21,
   "metadata": {},
   "outputs": [
    {
     "name": "stdout",
     "output_type": "stream",
     "text": [
      "Epoch 1/20\n",
      "2500/2500 [==============================] - 47s 18ms/step - loss: 0.5837 - accuracy: 0.6908 - val_loss: 0.3977 - val_accuracy: 0.8431\n",
      "Epoch 2/20\n",
      "2500/2500 [==============================] - 48s 19ms/step - loss: 0.3159 - accuracy: 0.8789 - val_loss: 0.2915 - val_accuracy: 0.8897\n",
      "Epoch 3/20\n",
      "2500/2500 [==============================] - 47s 19ms/step - loss: 0.2457 - accuracy: 0.9065 - val_loss: 0.2670 - val_accuracy: 0.8976\n",
      "Epoch 4/20\n",
      "2500/2500 [==============================] - 38s 15ms/step - loss: 0.2083 - accuracy: 0.9233 - val_loss: 0.2736 - val_accuracy: 0.8920\n",
      "Epoch 5/20\n",
      "2500/2500 [==============================] - 23s 9ms/step - loss: 0.1794 - accuracy: 0.9343 - val_loss: 0.2488 - val_accuracy: 0.9066\n",
      "Epoch 6/20\n",
      "2500/2500 [==============================] - 23s 9ms/step - loss: 0.1576 - accuracy: 0.9419 - val_loss: 0.2482 - val_accuracy: 0.9070\n",
      "Epoch 7/20\n",
      "2500/2500 [==============================] - 29s 11ms/step - loss: 0.1406 - accuracy: 0.9495 - val_loss: 0.2637 - val_accuracy: 0.9027\n",
      "Epoch 8/20\n",
      "2500/2500 [==============================] - 29s 12ms/step - loss: 0.1230 - accuracy: 0.9563 - val_loss: 0.2573 - val_accuracy: 0.9066\n",
      "Epoch 9/20\n",
      "2500/2500 [==============================] - 29s 12ms/step - loss: 0.1093 - accuracy: 0.9619 - val_loss: 0.2827 - val_accuracy: 0.8980\n",
      "Epoch 10/20\n",
      "2500/2500 [==============================] - 29s 12ms/step - loss: 0.0970 - accuracy: 0.9670 - val_loss: 0.2802 - val_accuracy: 0.9030\n",
      "Epoch 11/20\n",
      "2500/2500 [==============================] - 29s 12ms/step - loss: 0.0870 - accuracy: 0.9705 - val_loss: 0.2794 - val_accuracy: 0.9070\n",
      "Epoch 12/20\n",
      "2500/2500 [==============================] - 31s 12ms/step - loss: 0.0755 - accuracy: 0.9744 - val_loss: 0.2916 - val_accuracy: 0.9057\n",
      "Epoch 13/20\n",
      "2500/2500 [==============================] - 35s 14ms/step - loss: 0.0678 - accuracy: 0.9780 - val_loss: 0.3412 - val_accuracy: 0.8905\n",
      "Epoch 14/20\n",
      "2500/2500 [==============================] - 33s 13ms/step - loss: 0.0591 - accuracy: 0.9809 - val_loss: 0.3222 - val_accuracy: 0.9012\n",
      "Epoch 15/20\n",
      "2500/2500 [==============================] - 34s 14ms/step - loss: 0.0542 - accuracy: 0.9816 - val_loss: 0.3467 - val_accuracy: 0.8982\n",
      "Epoch 16/20\n",
      "2500/2500 [==============================] - 33s 13ms/step - loss: 0.0466 - accuracy: 0.9856 - val_loss: 0.3461 - val_accuracy: 0.9018\n",
      "Epoch 17/20\n",
      "2500/2500 [==============================] - 33s 13ms/step - loss: 0.0428 - accuracy: 0.9852 - val_loss: 0.3643 - val_accuracy: 0.9005\n",
      "Epoch 18/20\n",
      "2500/2500 [==============================] - 34s 13ms/step - loss: 0.0376 - accuracy: 0.9879 - val_loss: 0.3926 - val_accuracy: 0.8969\n",
      "Epoch 19/20\n",
      "2500/2500 [==============================] - 33s 13ms/step - loss: 0.0335 - accuracy: 0.9894 - val_loss: 0.4453 - val_accuracy: 0.8858\n",
      "Epoch 20/20\n",
      "2500/2500 [==============================] - 34s 13ms/step - loss: 0.0279 - accuracy: 0.9912 - val_loss: 0.4199 - val_accuracy: 0.8952\n"
     ]
    },
    {
     "data": {
      "text/plain": [
       "<keras.src.callbacks.History at 0x1b74eb558d0>"
      ]
     },
     "execution_count": 21,
     "metadata": {},
     "output_type": "execute_result"
    }
   ],
   "source": [
    "model.fit(X_train_padded, y_train, epochs=20, validation_data=(X_test_padded, y_test), verbose=1)"
   ]
  },
  {
   "cell_type": "markdown",
   "metadata": {},
   "source": [
    "### Prediction"
   ]
  },
  {
   "cell_type": "code",
   "execution_count": 44,
   "metadata": {},
   "outputs": [
    {
     "name": "stdout",
     "output_type": "stream",
     "text": [
      "1/1 [==============================] - 0s 16ms/step\n",
      "[False  True]\n"
     ]
    }
   ],
   "source": [
    "review = [\n",
    "    \"Scene with the CGI Leia was horrible. I wouldn't recommend this movie it to others.\",\n",
    "    \"The movie was great. I enjoyed every secon of it although actors play wasn't perfect but plot made up for it. I would recommend it to others.\"\n",
    "]\n",
    "\n",
    "review_sequence = tokenizer.texts_to_sequences(review)\n",
    "review_padded = pad_sequences(review_sequence, maxlen=2500, padding='post')\n",
    "\n",
    "prediction = model.predict(review_padded) > .5\n",
    "print(prediction.flatten())"
   ]
  }
 ],
 "metadata": {
  "kernelspec": {
   "display_name": "Python 3",
   "language": "python",
   "name": "python3"
  },
  "language_info": {
   "codemirror_mode": {
    "name": "ipython",
    "version": 3
   },
   "file_extension": ".py",
   "mimetype": "text/x-python",
   "name": "python",
   "nbconvert_exporter": "python",
   "pygments_lexer": "ipython3",
   "version": "3.11.3"
  },
  "orig_nbformat": 4
 },
 "nbformat": 4,
 "nbformat_minor": 2
}
